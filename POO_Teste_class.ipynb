{
  "nbformat": 4,
  "nbformat_minor": 0,
  "metadata": {
    "colab": {
      "name": "POO Teste class",
      "provenance": [],
      "authorship_tag": "ABX9TyNNWQSOwfJJFGvgbhIbihCL",
      "include_colab_link": true
    },
    "kernelspec": {
      "name": "python3",
      "display_name": "Python 3"
    },
    "language_info": {
      "name": "python"
    }
  },
  "cells": [
    {
      "cell_type": "markdown",
      "metadata": {
        "id": "view-in-github",
        "colab_type": "text"
      },
      "source": [
        "<a href=\"https://colab.research.google.com/github/jeffersonwhitney/Projetos_2022/blob/main/POO_Teste_class.ipynb\" target=\"_parent\"><img src=\"https://colab.research.google.com/assets/colab-badge.svg\" alt=\"Open In Colab\"/></a>"
      ]
    },
    {
      "cell_type": "code",
      "execution_count": 3,
      "metadata": {
        "id": "PGXcJ-uc0qxC"
      },
      "outputs": [],
      "source": [
        "class Cubo:\n",
        "  '''Classe para calcular o cubo de um número'''\n",
        "  def __init__(self, valor): #método contrutor da classe\n",
        "    self.x = valor\n",
        "    print('objeto criado!')\n",
        "  def calcula_cubo(self):\n",
        "    cubo = self.x * self.x * self.x\n",
        "    return 'Cubo calculado: ' + str(cubo)\n",
        "    \n",
        "  "
      ]
    },
    {
      "cell_type": "code",
      "source": [
        "teste = Cubo (10)\n",
        "c = teste.calcula_cubo()\n",
        "print(c)"
      ],
      "metadata": {
        "colab": {
          "base_uri": "https://localhost:8080/"
        },
        "id": "DCN_1WY62zaI",
        "outputId": "955105d6-b83d-435c-a8ea-02830eaf0167"
      },
      "execution_count": 5,
      "outputs": [
        {
          "output_type": "stream",
          "name": "stdout",
          "text": [
            "objeto criado!\n",
            "Cubo calculado: 1000\n"
          ]
        }
      ]
    }
  ]
}